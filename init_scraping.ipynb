{
 "cells": [
  {
   "cell_type": "code",
   "execution_count": 1,
   "metadata": {},
   "outputs": [],
   "source": [
    "# %run \"/content/drive/My Drive/Colab Notebooks/Miner_Stat/Python/Scrapper_Blockchain_Func.py\"\r\n",
    "%run \"lib/miner_stat.py\"\r\n"
   ]
  },
  {
   "cell_type": "code",
   "execution_count": 2,
   "metadata": {},
   "outputs": [
    {
     "name": "stdout",
     "output_type": "stream",
     "text": [
      "Escrapeando pagina:  750\n",
      "BLoques buscados:  644798\n",
      "  - Escrapeando pagina:  751\n",
      "BLoques buscados:  644748\n",
      "  | Escrapeando pagina:  752\n",
      "BLoques buscados:  644698\n",
      "  - Escrapeando pagina:  753\n",
      "BLoques buscados:  644648\n",
      "  | Escrapeando pagina:  754\n",
      "BLoques buscados:  644598\n",
      "  - Escrapeando pagina:  755\n",
      "BLoques buscados:  644548\n",
      "  | Escrapeando pagina:  756\n",
      "BLoques buscados:  644498\n",
      "  - Escrapeando pagina:  757\n",
      "BLoques buscados:  644448\n",
      "  | Escrapeando pagina:  758\n",
      "BLoques buscados:  644398\n",
      "  - Escrapeando pagina:  759\n",
      "BLoques buscados:  644348\n",
      "  | Escrapeando pagina:  760\n",
      "BLoques buscados:  644298\n",
      "  - ('Connection aborted.', ConnectionResetError(10054, 'Se ha forzado la interrupción de una conexión existente por el host remoto', None, 10054, None))\n",
      "no se encontro la URL: 760\n",
      "Escrapeando pagina:  761\n",
      "('Connection aborted.', ConnectionResetError(10054, 'Se ha forzado la interrupción de una conexión existente por el host remoto', None, 10054, None))\n",
      "no se encontro la URL: 761\n",
      "Escrapeando pagina:  762\n",
      "BLoques buscados:  644248\n",
      "  | Escrapeando pagina:  763\n",
      "BLoques buscados:  644198\n",
      "  | "
     ]
    }
   ],
   "source": [
    "init_update()\r\n"
   ]
  },
  {
   "cell_type": "code",
   "execution_count": 3,
   "metadata": {},
   "outputs": [
    {
     "name": "stdout",
     "output_type": "stream",
     "text": [
      "50\n",
      "100\n",
      "150\n",
      "200\n",
      "250\n",
      "300\n",
      "350\n",
      "400\n",
      "450\n",
      "500\n",
      "550\n",
      "600\n",
      "650\n",
      "700\n",
      "750\n",
      "800\n"
     ]
    }
   ],
   "source": [
    "contador = 0\r\n",
    "for i in range(16):\r\n",
    "#   scrapper_partitions(contador, 51)\r\n",
    "  contador += 50\r\n",
    "  print(contador)\r\n"
   ]
  },
  {
   "cell_type": "code",
   "execution_count": null,
   "metadata": {},
   "outputs": [],
   "source": []
  }
 ],
 "metadata": {
  "kernelspec": {
   "display_name": "Python 3.7.3 64-bit (conda)",
   "name": "python37364bitbaseconda0e883509fb914b28935ee363f9f0181b"
  },
  "language_info": {
   "name": "python",
   "version": ""
  },
  "metadata": {
   "interpreter": {
    "hash": "5b5eafffc98448ba74364d3e784907eb4436678064263856722b7b046d45f62e"
   }
  },
  "orig_nbformat": 2
 },
 "nbformat": 4,
 "nbformat_minor": 2
}