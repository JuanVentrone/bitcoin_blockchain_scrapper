{
 "cells": [
  {
   "cell_type": "code",
   "execution_count": 11,
   "metadata": {},
   "outputs": [],
   "source": [
    "# %run \"/content/drive/My Drive/Colab Notebooks/Miner_Stat/Python/Scrapper_Blockchain_Func.py\"\r\n",
    "%run \"lib/miner_stat.py\"\r\n"
   ]
  },
  {
   "cell_type": "code",
   "execution_count": 12,
   "metadata": {},
   "outputs": [],
   "source": [
    "\r\n",
    "class html_class:\r\n",
    "    # Check Clases before run it\r\n",
    "    height_link = 'sc-1r996ns-0 fLwyDF sc-1tbyx6t-1 kCGMTY iklhnl-0 eEewhk'\r\n",
    "    div_table = 'hnfgic-0 enzKJw'\r\n",
    "    left_column_table = 'sc-1ryi78w-0 cILyoi sc-16b9dsl-1 ZwupP sc-1n72lkw-0 ebXUGH'\r\n",
    "    right_column_table = 'sc-1ryi78w-0 cILyoi sc-16b9dsl-1 ZwupP u3ufsr-0 eQTRKC'\r\n",
    "    miner_name = 'sc-1r996ns-0 fLwyDF sc-1tbyx6t-1 kCGMTY iklhnl-0 eEewhk'\r\n"
   ]
  },
  {
   "cell_type": "code",
   "execution_count": 13,
   "metadata": {},
   "outputs": [],
   "source": [
    "class dir_:\r\n",
    "    # Path where is locate the last data & Path save new one\r\n",
    "    # \r\n",
    "    data_crudo = 'data/data_crudo.csv'\r\n",
    "    uni_data = 'data/uni_data/'\r\n"
   ]
  },
  {
   "cell_type": "code",
   "execution_count": null,
   "metadata": {},
   "outputs": [],
   "source": [
    "init_update()\r\n"
   ]
  },
  {
   "cell_type": "code",
   "execution_count": null,
   "metadata": {},
   "outputs": [],
   "source": []
  }
 ],
 "metadata": {
  "kernelspec": {
   "display_name": "Python 3.7.3 64-bit (conda)",
   "name": "python373jvsc74a57bd05b5eafffc98448ba74364d3e784907eb4436678064263856722b7b046d45f62e"
  },
  "language_info": {
   "codemirror_mode": {
    "name": "ipython",
    "version": 3
   },
   "file_extension": ".py",
   "mimetype": "text/x-python",
   "name": "python",
   "nbconvert_exporter": "python",
   "pygments_lexer": "ipython3",
   "version": "3.7.3"
  },
  "orig_nbformat": 2
 },
 "nbformat": 4,
 "nbformat_minor": 2
}